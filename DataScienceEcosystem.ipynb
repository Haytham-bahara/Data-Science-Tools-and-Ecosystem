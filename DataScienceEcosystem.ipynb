{
  "nbformat": 4,
  "nbformat_minor": 0,
  "metadata": {
    "colab": {
      "private_outputs": true,
      "provenance": [],
      "authorship_tag": "ABX9TyN1MM0j7ZF7fDye0epeBEHT",
      "include_colab_link": true
    },
    "kernelspec": {
      "name": "python3",
      "display_name": "Python 3"
    },
    "language_info": {
      "name": "python"
    }
  },
  "cells": [
    {
      "cell_type": "markdown",
      "metadata": {
        "id": "view-in-github",
        "colab_type": "text"
      },
      "source": [
        "<a href=\"https://colab.research.google.com/github/Haytham-bahara/Data-Science-Tools-and-Ecosystem/blob/main/DataScienceEcosystem.ipynb\" target=\"_parent\"><img src=\"https://colab.research.google.com/assets/colab-badge.svg\" alt=\"Open In Colab\"/></a>"
      ]
    },
    {
      "cell_type": "markdown",
      "source": [
        "# Data Science Tools and Ecosystem"
      ],
      "metadata": {
        "id": "I_PziqCvmLgX"
      }
    },
    {
      "cell_type": "markdown",
      "source": [
        "In this notebook, Data Science Tools and Ecosystem are summarized."
      ],
      "metadata": {
        "id": "9RSzzXCymSvy"
      }
    },
    {
      "cell_type": "markdown",
      "source": [
        "Some of the popular languages that Data Scientists use are:\n",
        "1. Python\n",
        "2. R\n",
        "3. SQL\n",
        "4. Julia"
      ],
      "metadata": {
        "id": "wYoqPtbHmYvX"
      }
    },
    {
      "cell_type": "markdown",
      "source": [
        "Some of the commonly used libraries used by Data Scientists include:\n",
        "1. Pandas\n",
        "2. NumPy\n",
        "3. Matplotlib\n",
        "4. Scikit-learn"
      ],
      "metadata": {
        "id": "9zSXB0Aamdh0"
      }
    },
    {
      "cell_type": "markdown",
      "source": [
        "| Data Science Tools |\n",
        "|--------------------|\n",
        "| Jupyter Notebook   |\n",
        "| RStudio            |\n",
        "| Apache Zeppelin    |"
      ],
      "metadata": {
        "id": "yYx5C0okmlOb"
      }
    },
    {
      "cell_type": "markdown",
      "source": [
        "### Below are a few examples of evaluating arithmetic expressions in Python.\n",
        "\n",
        ">\n",
        "\n"
      ],
      "metadata": {
        "id": "ifLfUAd0mq68"
      }
    },
    {
      "cell_type": "code",
      "source": [
        "# This is a simple arithmetic expression to multiply then add integers\n",
        "(3 * 4) + 5"
      ],
      "metadata": {
        "id": "seh0ReNWm0Ll"
      },
      "execution_count": null,
      "outputs": []
    },
    {
      "cell_type": "code",
      "source": [
        "# This will convert 200 minutes to hours by dividing by 60\n",
        "200 / 60"
      ],
      "metadata": {
        "id": "zqoLYDHEpb6P"
      },
      "execution_count": null,
      "outputs": []
    },
    {
      "cell_type": "markdown",
      "source": [
        "**Objectives:**\n",
        "\n",
        "- List popular languages for Data Science\n",
        "- Identify commonly used libraries\n",
        "- Create markdown and code cells in Jupyter\n",
        "- Evaluate arithmetic expressions in Python\n",
        "- Convert minutes to hours using Python code\n"
      ],
      "metadata": {
        "id": "104uZRRbp6a7"
      }
    },
    {
      "cell_type": "markdown",
      "source": [
        "## Author\n",
        "\n",
        "Haytham Bahara"
      ],
      "metadata": {
        "id": "Ab_xbkmkqDtB"
      }
    },
    {
      "cell_type": "code",
      "source": [],
      "metadata": {
        "id": "1jJ3WXpVp4Sy"
      },
      "execution_count": null,
      "outputs": []
    }
  ]
}